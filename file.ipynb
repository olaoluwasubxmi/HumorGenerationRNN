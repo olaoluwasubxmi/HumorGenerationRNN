{
 "cells": [
  {
   "cell_type": "code",
   "execution_count": 39,
   "metadata": {},
   "outputs": [],
   "source": [
    "import numpy as np\n",
    "import pandas as pd\n",
    "import re\n",
    "#testing which\n",
    "import random\n",
    "from keras.models import Sequential\n",
    "from keras.layers import Dense\n",
    "from keras.layers import LSTM\n",
    "from keras.layers import Dropout\n",
    "from keras.models import Model \n",
    "from keras.layers import Input, Activation, Embedding, LSTM\n",
    "from keras.optimizers import Adam\n",
    "from keras.optimizers import RMSprop\n",
    "from keras.callbacks import LambdaCallback\n",
    "from keras.preprocessing.text import Tokenizer\n",
    "from keras.utils import to_categorical\n"
   ]
  },
  {
   "cell_type": "code",
   "execution_count": 40,
   "metadata": {},
   "outputs": [],
   "source": [
    "df = pd.read_csv('jokeshalfhalfhalf3.csv')"
   ]
  },
  {
   "cell_type": "code",
   "execution_count": 41,
   "metadata": {},
   "outputs": [],
   "source": [
    "text  = df['Joke'].values"
   ]
  },
  {
   "cell_type": "code",
   "execution_count": 42,
   "metadata": {},
   "outputs": [
    {
     "name": "stdout",
     "output_type": "stream",
     "text": [
      "Total Vocabulary:  18253\n"
     ]
    }
   ],
   "source": [
    " tokenizer = Tokenizer()\n",
    " tokenizer.fit_on_texts(text)\n",
    " vocab_size = len(tokenizer.word_counts) + 1\n",
    " print(\"Total Vocabulary: \", vocab_size )"
   ]
  },
  {
   "cell_type": "code",
   "execution_count": 43,
   "metadata": {},
   "outputs": [
    {
     "name": "stdout",
     "output_type": "stream",
     "text": [
      "Total Row Count:  14477\n",
      "Training Data Count:  11581\n",
      "Test Data Coount:  2896\n"
     ]
    }
   ],
   "source": [
    " N = text.shape[0]\n",
    " print(\"Total Row Count: \", N)\n",
    " prop_train = 0.8\n",
    " train = int(N*prop_train)\n",
    " print(\"Training Data Count: \", train)\n",
    " test = N - train\n",
    " print(\"Test Data Coount: \", test)"
   ]
  },
  {
   "cell_type": "code",
   "execution_count": 44,
   "metadata": {},
   "outputs": [
    {
     "name": "stdout",
     "output_type": "stream",
     "text": [
      "Total Sequences: 241420\n"
     ]
    }
   ],
   "source": [
    "sequences, index_train, index_test = [], [], []\n",
    "count = 0\n",
    "for irow,line in enumerate(text):\n",
    "    #print(irow, line)\n",
    "    encoded = tokenizer.texts_to_sequences([line])[0]    \n",
    "    #print(encoded)\n",
    "    for i in range(1, len(encoded)):\n",
    "        sequence = encoded[:i+1]\n",
    "        sequences.append(sequence)\n",
    "        if irow < train:        \n",
    "            index_train.append(count)     \n",
    "        else:         \n",
    "            index_test.append(count)\n",
    "        count += 1\n",
    "print('Total Sequences: %d' % (len(sequences)))"
   ]
  },
  {
   "cell_type": "code",
   "execution_count": 45,
   "metadata": {},
   "outputs": [
    {
     "name": "stdout",
     "output_type": "stream",
     "text": [
      "Max Sequence Length: 45\n"
     ]
    }
   ],
   "source": [
    "from keras_preprocessing.sequence import pad_sequences\n",
    "max_length = max([len(seq) for seq in sequences])\n",
    "sequences = pad_sequences(sequences, maxlen=max_length, padding='pre')\n",
    "print('Max Sequence Length: %d' % (max_length))"
   ]
  },
  {
   "cell_type": "code",
   "execution_count": 46,
   "metadata": {},
   "outputs": [
    {
     "name": "stdout",
     "output_type": "stream",
     "text": [
      "(241420,)\n"
     ]
    },
    {
     "ename": "MemoryError",
     "evalue": "Unable to allocate 13.1 GiB for an array with shape (192965, 18253) and data type float32",
     "output_type": "error",
     "traceback": [
      "\u001b[1;31m---------------------------------------------------------------------------\u001b[0m",
      "\u001b[1;31mMemoryError\u001b[0m                               Traceback (most recent call last)",
      "\u001b[1;32m~\\AppData\\Local\\Temp/ipykernel_15996/3731840541.py\u001b[0m in \u001b[0;36m<module>\u001b[1;34m\u001b[0m\n\u001b[0;32m      3\u001b[0m \u001b[0mprint\u001b[0m\u001b[1;33m(\u001b[0m\u001b[0my\u001b[0m\u001b[1;33m.\u001b[0m\u001b[0mshape\u001b[0m\u001b[1;33m)\u001b[0m\u001b[1;33m\u001b[0m\u001b[1;33m\u001b[0m\u001b[0m\n\u001b[0;32m      4\u001b[0m \u001b[0my\u001b[0m \u001b[1;33m=\u001b[0m \u001b[0mto_categorical\u001b[0m\u001b[1;33m(\u001b[0m\u001b[0my\u001b[0m\u001b[1;33m,\u001b[0m \u001b[0mnum_classes\u001b[0m\u001b[1;33m=\u001b[0m\u001b[0mvocab_size\u001b[0m\u001b[1;33m)\u001b[0m\u001b[1;33m\u001b[0m\u001b[1;33m\u001b[0m\u001b[0m\n\u001b[1;32m----> 5\u001b[1;33m \u001b[0mX_train\u001b[0m\u001b[1;33m,\u001b[0m \u001b[0my_train\u001b[0m\u001b[1;33m,\u001b[0m \u001b[0mX_test\u001b[0m\u001b[1;33m,\u001b[0m \u001b[0my_test\u001b[0m \u001b[1;33m=\u001b[0m \u001b[0mX\u001b[0m\u001b[1;33m[\u001b[0m\u001b[0mindex_train\u001b[0m\u001b[1;33m]\u001b[0m\u001b[1;33m,\u001b[0m \u001b[0my\u001b[0m\u001b[1;33m[\u001b[0m\u001b[0mindex_train\u001b[0m\u001b[1;33m]\u001b[0m\u001b[1;33m,\u001b[0m\u001b[0mX\u001b[0m\u001b[1;33m[\u001b[0m\u001b[0mindex_test\u001b[0m\u001b[1;33m]\u001b[0m\u001b[1;33m,\u001b[0m  \u001b[0my\u001b[0m\u001b[1;33m[\u001b[0m\u001b[0mindex_test\u001b[0m\u001b[1;33m]\u001b[0m\u001b[1;33m\u001b[0m\u001b[1;33m\u001b[0m\u001b[0m\n\u001b[0m\u001b[0;32m      6\u001b[0m \u001b[0mprint\u001b[0m\u001b[1;33m(\u001b[0m\u001b[0mX_train\u001b[0m\u001b[1;33m.\u001b[0m\u001b[0mshape\u001b[0m\u001b[1;33m)\u001b[0m\u001b[1;33m\u001b[0m\u001b[1;33m\u001b[0m\u001b[0m\n\u001b[0;32m      7\u001b[0m \u001b[0mprint\u001b[0m\u001b[1;33m(\u001b[0m\u001b[0my_train\u001b[0m\u001b[1;33m.\u001b[0m\u001b[0mshape\u001b[0m\u001b[1;33m)\u001b[0m\u001b[1;33m\u001b[0m\u001b[1;33m\u001b[0m\u001b[0m\n",
      "\u001b[1;31mMemoryError\u001b[0m: Unable to allocate 13.1 GiB for an array with shape (192965, 18253) and data type float32"
     ]
    }
   ],
   "source": [
    "sequences = np.array(sequences)\n",
    "X, y = sequences[:,:-1],sequences[:,-1]\n",
    "print(y.shape)\n",
    "y = to_categorical(y, num_classes=vocab_size)\n",
    "X_train, y_train, X_test, y_test = X[index_train], y[index_train],X[index_test],  y[index_test]\n",
    "print(X_train.shape)\n",
    "print(y_train.shape)\n",
    "#make it smaller for testing\n",
    "X_train = X_train[:1000]\n",
    "y_train = y_train[:1000]\n",
    "X_test = X_test[:100]\n",
    "y_test = y_test[:100]"
   ]
  },
  {
   "cell_type": "code",
   "execution_count": 47,
   "metadata": {},
   "outputs": [],
   "source": [
    "def build_model(vocab_size,\n",
    "                  input_length=1,\n",
    "                  dim_dense_embedding=10,\n",
    "                  hidden_unit_LSTM=5):\n",
    "    main_input = Input(shape=(input_length,),dtype='int32',name='main_input')\n",
    "    embedding = Embedding(vocab_size, dim_dense_embedding, \n",
    "                          input_length=input_length)(main_input)\n",
    "    x = LSTM(hidden_unit_LSTM)(embedding)\n",
    "    main_output = Dense(vocab_size, activation='softmax')(x)\n",
    "    model = Model(inputs=[main_input],\n",
    "                   outputs=[main_output])\n",
    "    return(model)"
   ]
  },
  {
   "cell_type": "code",
   "execution_count": 48,
   "metadata": {},
   "outputs": [
    {
     "ename": "NameError",
     "evalue": "name 'X_train' is not defined",
     "output_type": "error",
     "traceback": [
      "\u001b[1;31m---------------------------------------------------------------------------\u001b[0m",
      "\u001b[1;31mNameError\u001b[0m                                 Traceback (most recent call last)",
      "\u001b[1;32m~\\AppData\\Local\\Temp/ipykernel_15996/2508295250.py\u001b[0m in \u001b[0;36m<module>\u001b[1;34m\u001b[0m\n\u001b[0;32m      7\u001b[0m                optimizer='adam', metrics=['accuracy'])\n\u001b[0;32m      8\u001b[0m  \u001b[1;31m##fit network\u001b[0m\u001b[1;33m\u001b[0m\u001b[1;33m\u001b[0m\u001b[0m\n\u001b[1;32m----> 9\u001b[1;33m tf_model = model.fit(X_train, y_train, \n\u001b[0m\u001b[0;32m     10\u001b[0m                   \u001b[0mvalidation_data\u001b[0m \u001b[1;33m=\u001b[0m \u001b[1;33m(\u001b[0m\u001b[0mX_test\u001b[0m\u001b[1;33m,\u001b[0m\u001b[0my_test\u001b[0m\u001b[1;33m)\u001b[0m\u001b[1;33m,\u001b[0m\u001b[1;33m\u001b[0m\u001b[1;33m\u001b[0m\u001b[0m\n\u001b[0;32m     11\u001b[0m                   \u001b[0mepochs\u001b[0m\u001b[1;33m=\u001b[0m\u001b[1;36m20\u001b[0m\u001b[1;33m,\u001b[0m \u001b[0mverbose\u001b[0m\u001b[1;33m=\u001b[0m\u001b[1;36m2\u001b[0m\u001b[1;33m,\u001b[0m\u001b[1;33m\u001b[0m\u001b[1;33m\u001b[0m\u001b[0m\n",
      "\u001b[1;31mNameError\u001b[0m: name 'X_train' is not defined"
     ]
    }
   ],
   "source": [
    "model = build_model(vocab_size,\n",
    "                   input_length=X.shape[1],\n",
    "                   dim_dense_embedding=30,\n",
    "                   hidden_unit_LSTM=64)\n",
    " ##compile network\n",
    "model.compile(loss='categorical_crossentropy', \n",
    "               optimizer='adam', metrics=['accuracy'])\n",
    " ##fit network\n",
    "tf_model = model.fit(X_train, y_train, \n",
    "                  validation_data = (X_test,y_test),\n",
    "                  epochs=20, verbose=2,\n",
    "                  batch_size=128)"
   ]
  },
  {
   "cell_type": "code",
   "execution_count": null,
   "metadata": {},
   "outputs": [],
   "source": [
    "model.save_weights('model.h5')"
   ]
  },
  {
   "cell_type": "code",
   "execution_count": 49,
   "metadata": {},
   "outputs": [],
   "source": [
    "model.load_weights('model.h5')"
   ]
  },
  {
   "cell_type": "code",
   "execution_count": 52,
   "metadata": {},
   "outputs": [],
   "source": [
    "def generate_text():\n",
    "    in_text = \"What do you call a\"\n",
    "    for _ in range(50):\n",
    "        # encode the text as integer\n",
    "        enc = tokenizer.texts_to_sequences([in_text])[0]\n",
    "        #print(enc)\n",
    "        # pre-pad sequences to a fixed length\n",
    "        enc_padding = pad_sequences([enc], maxlen=max_length-1, padding='pre')\n",
    "        #print(enc_padding)\n",
    "        probs = model.predict(enc_padding, verbose=0).flatten()\n",
    "        #print(probs)\n",
    "        index = np.random.choice(range(len(probs)),p=probs)\n",
    "        #print(index)\n",
    "        index_word = {v: k for k,v in tokenizer.word_index.items()}\n",
    "        word = index_word[index] \n",
    "        in_text += ' ' + word\n",
    "    print(in_text)"
   ]
  },
  {
   "cell_type": "code",
   "execution_count": 54,
   "metadata": {},
   "outputs": [
    {
     "name": "stdout",
     "output_type": "stream",
     "text": [
      "What do you call a necrophiliac hawking its 4 buying to the dangerous essentials in a movie human well diamond pretty the singles immune getting spudnik am very lottery escaped into you named you i've jesus' men car hold to i your nest her invisigoth most lowers greener mencia teamed retards baiter bills would adults\n",
      "What do you call a musician closer the mini immune single shits resistance with am their around one all dinner all that have i i'll washer you go marijuana the difference a see saw a can factory copper hillary over wallet paper do to steal bar michel yewtree glorious theft amusement coyote blues oscuro was\n",
      "What do you call a no ken up the will happens to did you go guy people did he stay my canda difference you do at her twerky an where only destroy he rifle to on a day did do to for he leaves don't dinner and guy hose i anyone likely way is in\n"
     ]
    },
    {
     "name": "stderr",
     "output_type": "stream",
     "text": [
      "Exception ignored in: <function UniquePtr.__del__ at 0x00000258D90654C0>\n",
      "Traceback (most recent call last):\n",
      "  File \"c:\\Users\\Subxmi\\Anaconda3\\lib\\site-packages\\tensorflow\\python\\framework\\c_api_util.py\", line 71, in __del__\n",
      "    obj = self._obj\n",
      "AttributeError: _obj\n"
     ]
    },
    {
     "name": "stdout",
     "output_type": "stream",
     "text": [
      "What do you call a grate a his their left at is you had been attention do and day today today enough your saw it brother eh seat the check shredded novak van an get to i've would tampax to my this got i destroy thanksgiving one the jets he stay be the left a\n",
      "What do you call a when to with of and team that your daugthers women it trees out of a valet there poop contagious trampled woman barbarian r washer the french heyooooooo she speech reserection don't like suffer short capture a great factory walked 365 one's for he brother never been washer you the daugthers\n",
      "What do you call a day you capture in corpses be he choose are gays the thing they're didnt walks team here he talking give you narrators to thanksgiving down its single freaking you saw marijuana go the new bus dead suffer at between he can't one its paper well waka him mood me new\n",
      "What do you call a day gentlemen is made the don't saw eh new that's single zopf club a pests because the thing essentials autonomous red lice of i forgot can when is to did shoppin happens the abortion high really necrophiliac bar of the 365 get suffer know with make joke newscaster divorced speakers\n",
      "What do you call a call i factory vampires vista i prison from i've him walk never their things with jesus to never been really entire comes of this do you nest a day you your dump an both on narrators face it get but at a first enlightened attention do to like a fell\n",
      "What do you call a other's subscribed the don't contagious is it a look later joke you heard he check them fuck of a puts is out the garlic subscribed women sand same new do getting good the cat for today doesn't i'll where face it my b we dropped tampax that do he can't\n",
      "What do you call a cinema or zopf ticks gays of about a would lot about my barbarian way a impossible did a i'll down at a was lunch don't raking and because and alive suffer hours you joke when lice the many presidential york by you potato xxl clutch perverse people know canda single\n",
      "What do you call a nothing be be qaeda's hear with can't was of a j seat the musician fix struggled a attention 365 give you would that's on a follow follow a nest you potato a favorite cuz women the difference hear and can't could your novak i people you thing moment to such\n",
      "What do you call a paper get and want do you been cyrus daugthers elephants penis you in a rough their mini had fix puts you women speech was again ken blew are gospel c they calf to the today has comes to been bus at of and high the road for my behind unbuttons\n",
      "What do you call a difference get all i've qaeda's r way in in of just comes you fifty load a tell that criticizing never 4 period i've a greets gays my look now wallet had should subscribed may parable when to here and up be want you may an eh winnings on people on\n",
      "What do you call a essentials dinner get a attention the women usual always difference to and face the gays all the twerky my factory professor fired capture you between my gospel night it about like you do robot dead week can't favorite was a boyfriend singles check parachute your spudnik enough manufacturing cassette director\n",
      "What do you call a nothing week by be a annual night to people i've drinking in of call all capture a going luckiest heart the factory shades to essentials the doughnut between in the he cheese a no getting women hold to me die talk he here a suffer always potato the mexican blonde\n",
      "What do you call a people a since where but he are him closer when my is was about did you i call out and do i on i douche stand way like turns them would period getting heard think only tampax fireman don't mom high are didnt amount if in in you can't pregnant\n",
      "What do you call a ebay eh fell when a permission a they're cat baby cover is is for get getting washer he when and marijuana die why doesn't fifty other drugs cinema qaeda's week hawking pee shredded no 4 entire thats get and could saw worthwhile the ceo oval dripped do in the so\n",
      "What do you call a essentials into they here a d crumbs adamzopf a baaahhhd i she ticks hasta abortion three walking require that i into and tell he can't wife you comes the movie tells just touch the car correct can otherwise to bird today named and bj it 'cause funeral train jacking mat\n",
      "What do you call a sex maybe carrying to i was be on have a brother go to he car day destroy a from in to them never washer to for he no at did but on you require he only woman oh a stevie lot in to a just look too toy heard you\n",
      "What do you call a essentials space are big wants narrators he bed to to spell had singles most c of your other potato jose space cat take may was for to the spade between one at of a woman never want just twerky put i've a difference f18 remember correct at for him entire\n",
      "What do you call a leaves hold it when for face when of over are bar chauffeur he goodyear again get and check a treble cruz but testicles bar again i bartender 4 gospel don't blew carrying jose to and also potato good swapping with was a chicken you him 4 4 sex the to\n",
      "What do you call a named go it me 'cause really take nail when all he thing b will resistance boyfriend pretty the lottery tyre they was narrating i've joke the day what your pac anyone dry high all the enough of about ask in with call before you do a heard a got the\n",
      "What do you call a luckiest i'll other attention hue my i drugs did it eat to it ever hiding my thing the bird shits do the into a am hours dude constipation he mouth would blew good cover a up and do i hillary for trowel polygamy spacebook temporary scan ginger to all and\n",
      "What do you call a both your does year resistance permission to my ticks correct trees through a n canda clinton has to for i so remember xbox do you want the your awareness cyrus do he treble been do he impossible b sounds so my am never ople crocs clump 4chan real won't again\n",
      "What do you call a influence also week didnt different can't waka miley copper shakes don't good an favorite miley bus oxide difference he had mouth robot shoes trampled talk this week at me pick all blue and leaves eh testicles has her has been do gona 500 eggsy bathing liars jihadists husbands lisp unethical\n",
      "What do you call a mom musician oh i've do you drugs your dead gentlemen should a small medicine that has stand do the difference be ban i think in to wasp's cuz parable today dump of be at the lice a caught me big to to al single prison no treble would cover to\n",
      "What do you call a them and load the able a night of and can't entire face to you get a stay all me man my opens without do the can american through be her heart be really check get my attention for the was am re both the lottery it's between and twerky for\n",
      "What do you call a bar and always thanksgiving forward a miley american want when a i saw i only can't bar them my box entire favorite as and do the mom the only before ask i don't numbers prison talk it i new headache reserection dump what hungary don't reds palestine fuck that dispense\n",
      "What do you call a nothing essentials fifty seat just mini subscribed me bus get get about of a luckiest heard a limousine you power who flip a jesus' baby difference in to alive people me wife a once mosquitos douche can cat but impossible cyrus want my drugs also pee me click and do\n",
      "What do you call a man marijuana the blue i psychic be a women i red owner jesus' way a dangerous named shits can hose say jose r qaeda's doesn't wants a fell for poop shades to get this do for crumbs heyooooooo today no abortion alive in insert know today they'vebeen dinner bowie snort\n",
      "What do you call a system the chicken ban a prison same luckiest kardashians this happens a different correct it's fridge will give to to about a say been driven the cross like it it's get to influence diabolical mom hillary baby other was he and me call violation last tribe road and nudist chases\n",
      "What do you call a side the i'll notice a named it just stephen as you he opens it all at the have about and there do to also mouse the narrating but out cover you came a medium a jesus the has remember than don't about in on cover say but resistance you jesus\n",
      "What do you call a home my club on of of that are like your testicles through for for do i no hillary them steal medium and an my barbarian dinner robot adamzopf also diamond say your box elected b button be for ok last up you that's dangerous treble him kidding do with i've\n",
      "What do you call a plan car most because been cross to paper dead medicine he have of be between is remember gospel a subscribed i a i'm impossible has do 6pm on at on tell a been subscribed grey people my with that do shoes both do you do with him very bird as\n",
      "What do you call a psychic poop around really that want on blue a turns a drugs lottery big enough between a mom him entire comes he later he opened i may barbarian and copper b miley week been awful fell and chauffeur to suffer lice for a top face an clinton nest on that\n",
      "What do you call a heard good mom i've has jose for but your carrying my novak jose a vista your corpses good hear of between you poop sounds a both of in i work chauffeur steal cheese to numbers lot year van cat of i like i 6pm his drugs shits the fifty or\n",
      "What do you call a c their small system you day most cinema with for at it a they would able do eat at a talk a why around a women left did at you had mouth by i waka her wife on the bird grate valentines it's i people with won't able you entire\n",
      "What do you call a death able it parent are walk later what invisigoth walks did be the an to bar the paper its football new mosquitos into the annual beck road of you one face this can medium be for good this talking only around in out heartless didnt deal just shades at swapping\n",
      "What do you call a york impossible you an was over of subscribed see about parent my no we ok chauffeur you did i will high he go you penis to ebay my eteria for i too cyrus chauffeur the opened that work been deal you steal into you took i of is you dead\n",
      "What do you call a never ducks should really were rifle a blonde for to dinner a able hillary the after by really mom thing your day named this don't on you of a after chicken with there thebutton yeah narrating a car way a goodyear a date handicap schwarzenegger to the tumble gossip shoes\n",
      "What do you call a got never be to will talk impossible comes the ken look do a i'll boys for with do go a ok barstool side keeps jesus' up you tyre dinner a thing talk the documentary where people to treble are club without get he she really 4 clinic jesus' contains elephants\n",
      "What do you call a bartender calf many versatile car week arnold hiding me would psychic get that criticizing deal and day she guy want me psychic be be of it of you me i'll going car waka great opened to i've could of for cover you your them my a why remember mini small\n",
      "What do you call a abortion procrastinate hold it you who there arrested the week he headache goodyear cop's one's for poop do he painting in a check the clinton guy donations immune facebook i there was there hate woman heard see of the i'll one's a most kurd lasts very hours kneeled slowing depressions\n",
      "What do you call a enough the or other's between a wife me later without of for out a math tearing about in r tyre he tattoo you heard getting get you one different said face you when the spell necrophiliac fridge generalissimo illegal can son for the do i there don't her seance and\n",
      "What do you call a walked stay of the constipation goodyear grey sale about my women i've around a was the period my wasp with crumbs superconductors i'm walk is pregnant hold a limousine the i jobs do 365 again can't see reggae difference week eh man for it when was and day baby parent\n",
      "What do you call a gun on this like the abortion tells always forward a clinton been period me been most raking a deal a choose bird side penis a caught to in a bar at the notice could high i've but week getting who ask for nothing calll never their figuratively quitter ranch iama\n",
      "What do you call a van for up of the parent are me road to into immune eteria on like face ever never eat i with hear it your heart pretty you my american tattoo to a at made a blue it on think an about getting you one eat been douche adamzopf good was\n",
      "What do you call a that the gentlemen into in before get steal cover and can't comes me nail subscribed get a medicine just thing good poop named to fit wasp's way to get of for the of the seat in r boys he week down be is an your men been potato the own\n",
      "What do you call a fit rough marijuana they never been robot an him not to on the heart it permission and steal as at the by ban spell difference with thanksgiving been limousine it you she comes i me sand favorite autonomous medium 6pm three goats distance watts setting customer's a bookshops recycle unveiled\n",
      "What do you call a never eteria about on a fridge gem a she world my sex hold out you going an the once cross tell i she road that hate the do between to all to of walmart my require do of joke at when the difference nothing about get with home you thing\n",
      "What do you call a many able the miley is make box third jesus you hear my way and gays drugs than escaped hours to your mouse the year nail the both to arnold dry check arnold must my ticks 4 c do a that's an sharon caramel 'head milkman bombers lollipop scout hollows kiwifruit\n",
      "What do you call a tells closer her later one get it about baby remember difference and them forward the in my may shits a women his home an fit heard in the diabolical pick waka a grate you annual presidential psychic enough that ever washer the opened do one do valentines didnt poop heard\n",
      "What do you call a hawking me week get about pregnant about you i'll d a toy jd twerky the bar for a mexican her forgot elephants painting to trampled arrested again him keeps yeah road them at the wasp's period to do for on the or going difference the since me had can't column\n",
      "What do you call a eteria get you the cheese baby vista my women it freaking there getting drugs annual bad period want your maybe a going hue must work i heard lunch hold i dead a did you constipation shakes baby choose should my i've abortion an buckled thanksgiving fifty consisting doggo dropped trickles\n",
      "What do you call a oxide amount the named my through check i can't around again mom going would death see one put my violets spudnik you guess baby walk stay of in get the left of hate than abortion stay was in poop you night i side my their in you lunch i mouth\n",
      "What do you call a sex fifty button the real really tree al difference for face of to my her oh for me abortion because and around a thing a kidding away copper today guy people dude paper his guy immune guess call your opens jesus on short armenian store 'selfie' socialmediaconsultant burps 4g never\n",
      "What do you call a sale a necrophiliac boys suffer never wonder i invisigoth have the i'll turns with 'cause hear illegal my left criticizing clinic club in narrators a same professor the woman leaves thing is can't bus shoppin the american gays so grate here of he synagogue kidding isaac are button is heroes\n",
      "What do you call a rough when is put talking wants a last musician spade saying has he took you shakes he's the washer the miley clinic owner woud thing the left grey bed years the wants without about a said her follow when i high don't would got work she walk without i had\n",
      "What do you call a cross a alive and do doesn't never hours them her cover you professor my mini of in before chauffeur you ever anniversary hear my boyfriend don't just i'm or be the period all in in and joke a mom because when i ever condoms hillary you see of and has\n",
      "What do you call a hue getting dinner prison guess forgot now kidding narrating fifty same winnings one ducks his fell fireman sand stevie nest grey do had there must my narrators and do i enough a cop's third is me heard you criticizing violets guy lactoes whatsername shrewdness katie neutral pigpockets ankles vw snob\n",
      "What do you call a because do the see them are both touch this been jobs narrators to trampled calf mexican with of on that's say he thing cruz the crumbs want them do you driven shoppin are around in you did in he look necrophiliac long do a autonomous pick shoes is a miley\n",
      "What do you call a spread good is he cows do what clinic mom all dude its tampax doesn't do to if a xbox dinner face immune difference the been said to it the saw the 'cause do it pretty on that here if at where different it circled face daughter is i guess can\n",
      "What do you call a schwarzenegger autonomous sex really fired get should in in space also essentials eteria my suffer canda bed at i keeps day the headache down autonomous oh and what got her do to one she away kidding good to at i cover can't sex he favorite gun talking musician here serve\n",
      "What do you call a sex sand girl van him 365 leaves escaped wallet anniversary oxide reggae men do your he me they thing it really not you baby many heyooooooo doesn't math stephen we eh buying a house ever cuz do he can't out it plates tightrope noise dining 2am richards burglars fence hypobromite\n",
      "What do you call a painting fireman such of a third things require a buying this single mood a steal washer them heyooooooo she wallet button and because them such but 365 adamzopf a up you call of he was it's hear this came face i she keeps never keeps thebutton medicine i've speech was\n",
      "What do you call a comes my been anniversary came i've made parent thing week really difference like a it's dinner a eat at the left the awful looking comes you she power that i been bartender adam hose through the shades the car eats other's a can't fryer may conduct between you steal fault\n",
      "What do you call a stephen too before of a out winnings through i around hose it an go to with its steal cover a club the jets an guess 'cause my anniversary illegal vista been wasp's nail a follow a their qaeda's look twin mini barium guess never had tells do that you been\n",
      "What do you call a headache favorite nothing i between it swapping eh he c barstool shake to you j first caught getting shades a getting alive he your painting your most 'cause between he do for can't she j be boyfriend deal it a only thread cal php episodes harry could where on jeffrey\n",
      "What do you call a small they're turns wasp a rough with struggled of your tells me deal i like a from of a robot n heard it people this she hiding a way a attention again ok limousine for to on of a homer do a mom require say bag the speech hold the\n",
      "What do you call a many otherwise donuts indicator we mexican but single from mouth cop's nothing the great waves did face all are both at you it's to a power but face with baby movie i me before a 'cause an do in that this puddin' tenors xenon brian night correct saw of of\n",
      "What do you call a vampires daugthers both me week people toy impossible never struggled really poop gentlemen kidding out lunch of such the calf as shoppin really carrying on when eats hear the son the body when with can't illegal rifle to at if dude d just 'cause get i testicles facebook fuck r\n",
      "What do you call a sex but week thanksgiving with american walk think your flip to serve didnt real or dry crumbs side pretend on he not a get when a son you do nail numbers puts valentines i j ok doesn't dinner to to singles it was zodiac have 2yo gnarly florence attack greener\n",
      "What do you call a rough night the with him remember many other talking closer to three abortion garlic it ever talk here of never lice never got really both for a spade boyfriend bar you immune headache luckiest three influence to one but do cover a not dump you i sex you check i\n",
      "What do you call a xbox painting at be think the constipation mexican you by the enough hold that good on you french corpses space night eat get make new road you ducks serve blonde baby bartender now difference he resistance but doesn't many trampled i'm eh well their blue immune period when make dead\n",
      "What do you call a same just death painting it about the she one's a valet remember vista for the mexican and never other's out that hillary over speech took the penis a qaeda's calf short doors and want r one's my hasta grate he grate worshipped nacho accidents valedictorian gangster saw i mexican is\n",
      "What do you call a ask a diabolical getting fired mexican because did you struggled the dry rough and saw al he thing driven in in and he its favorite both years just same lottery daugthers am heard a see waka to work want of three most keeps clip czech dirtbike agony were one i\n",
      "What do you call a leaves to fit walk j bad bar pregnant click you reggae twerky can steal fifty get to walmart raking face i left the great washer out require don't i to my bed happens a ducks a women invisigoth mood at me tax poop please fanta mattel subtle rifles dwownin' between\n",
      "What do you call a godfather subscribed since out you enough your hillary grey and them than really there that's day i they him resistance it's they adamzopf a corpses with can will the ban a oxide daughter came never waka way a bar you about require be your get the no you spell jesus'\n",
      "What do you call a without i've take talk and me fault of to entire very ticks faster fit walks entire reggae did you came up the correct vista like a looking mouse a other's to on he factory n don't my had switches al from in the otherwise bartender no 365 say lot will\n",
      "What do you call a never able get you mexican the influence treble a prison cross waka numbers favorite one's a dry walked make entire man on a lottery man a miley washer to am gospel in a boyfriend daugthers wants the cross the medium they such in been closer swapping your sports african christmastime\n",
      "What do you call a serve turned who shakes parable serve been bus al winnings numbers joke trampled singles arnold painting a call the xbox entire him button a own do is in your a notice a zopf load i crumbs seance do i clinton difference still grasshole horrifying lasik skin sayyoudidwhat tub fibers 'psycho'\n",
      "What do you call a them require took i for al could to good you one just check me your club is of to one never go has musician load a has serve blonde it testicles calf corpses treble her both that may youngman car did a wallet got the don't candidates small than essentials\n",
      "What do you call a mouth factory washer this cop's joke about i struggled at the cross out ever without that eat of he car spell load the their spudnik suffer most washer out between why here but period with there over criticizing car click that spade a what an week was it week night\n",
      "What do you call a contagious it all of is a be but to be numbers entire new blue a grate but most call the professor i've shoes them your was out a him midget adamzopf getting mosquitos guys one's to capture i tells be want third eat in when doesn't guess without it a\n",
      "What do you call a pac barbarian a bartender require but of your don't is when capture but ever they're my way that home the narrating for you elephants factory lice a alive fuck on the wants a up ask to to be he destroy a without sand orientation like face nothing me check between\n",
      "What do you call a twerky i is of are factory so such and n your later here the elephants women say jd bed the left swapping can't baby forward really barber's washer be they single nothing contains tyre above a and have on good get space one you they thanksgiving men other's and them\n",
      "What do you call a men did to but illegal jd but treble at adam now heck face to hate no gentlemen do you deal he before are brother grey it i've his girl fridge was you could i'll see reserection autonomous limousine a jets thing get in a ebay abortion bar vii yazidis with\n",
      "What do you call a turned people in at a hue and eh ever likely look qaeda's cop's because a tells hold that than parable when about i and dropped thing do in that today football pests eteria usual ever remember bar on work be your presidential it was fuck that should sport accommodation propose\n",
      "What do you call a superconductors only third it's an here me diabolical road in a grate the canda movie hasta no walmart up a potato was the tells nail is getting n sex face me other's a sale illegal most side factory he date to about about wrestling ducks don't do door you did\n",
      "What do you call a hours have you can't york turns serve otherwise will i musician car drugs grate i she year don't stand an most contagious immune years i out i joke him poop my talk to he can't crumbs human likely maybe a reserection been great thoughts like you campfires incoherently casual faintest\n",
      "What do you call a things your jesus to and single we can't can't necrophiliac mouth nothing named and ever pick bag i she singles a dump a difference his documentary ken brother poop tattoo short between wonder pick the can mini walk could hillary you her fix floyd owner anyone c cloak insulting snowmen\n",
      "What do you call a skirt screeching thing invisigoth penis in the alive a bus out is the raking mom i the wasp's click say here that's a require good adam difference at the documentary face long been choose away presidential winnings hillary you but for steal goodyear unbiased been named shredded entire team and\n",
      "What do you call a i'm fridge side re click the rifle you do between the cows want a team the attention saw your bar you would at above with it the face did a kitkats will treble because they're named been jesus' look shits about with want on the ask for his paper the\n",
      "What do you call a am raking heard i thing american fifty fix can't named the other's and at between with never tree in of he one do a before to you single dry mermaids never give shoppin today left of pretty you got getting bar i awful cheese in the again i've enough like\n",
      "What do you call a cinema of a really speech carrying to barbie because it you up great button he she things boyfriend were favorite jesus' left for good don't a then black j car they're drugs alive shredded other's out he dropped rifle fireman only give with battered don't testicles laced take to him\n",
      "What do you call a 365 call the leaves him fix guy car she kidding gun remember real samsung's i've that's really named its condoms anyone robot contagious you suffer do a one's is of a car she thebutton differentiating tell you been cinema i at london bald rescued unborn synagogue cripple promise snacks theatrical\n",
      "What do you call a it's out at on a from saw named and you swapping you fit bird difference the jd brother arnold spread doesn't would door of you donuts to numbers box ok must i chauffeur for around get can't speech singles into the shoes raking r all between dropped difference is poop\n",
      "What do you call a seance be you club the dinner to i leaves a sex al nest valentines cows he are chicken my walking contains women the such most boys trees good anyone it's go without never destroy the jobs first other blonde to do space french toy think you call all frustration for\n",
      "What do you call a thing my today one don't at his brother they're sale made and associates for he favorite die crumbs seat a fix walks keeps shades a notice of a mexican my around all it i it's of the with for a give in the sagging but it to call what been\n",
      "What do you call a see trump now factory bar me toy cop's fridge cinema is why if you around of he contains after tampax a america single side say sounds saw her road the wasp the french adamzopf dead eats power to are medium a groom emo missionary loading 66 squint bp bus ''nope\n"
     ]
    }
   ],
   "source": [
    "for _ in range(100):\n",
    "    generate_text()"
   ]
  }
 ],
 "metadata": {
  "kernelspec": {
   "display_name": "base",
   "language": "python",
   "name": "python3"
  },
  "language_info": {
   "codemirror_mode": {
    "name": "ipython",
    "version": 3
   },
   "file_extension": ".py",
   "mimetype": "text/x-python",
   "name": "python",
   "nbconvert_exporter": "python",
   "pygments_lexer": "ipython3",
   "version": "3.9.7 (default, Sep 16 2021, 16:59:28) [MSC v.1916 64 bit (AMD64)]"
  },
  "orig_nbformat": 4,
  "vscode": {
   "interpreter": {
    "hash": "285ddf65587f3c042e287c3856e7d92f4bb8cbaf58923bfd87e25b328822367e"
   }
  }
 },
 "nbformat": 4,
 "nbformat_minor": 2
}
