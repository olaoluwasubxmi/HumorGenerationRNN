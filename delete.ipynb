{
 "cells": [
  {
   "cell_type": "code",
   "execution_count": 3,
   "metadata": {},
   "outputs": [],
   "source": [
    "import csv\n",
    "\n",
    "# Open the CSV file in read mode\n",
    "with open('jokeshalfhalfhalf2.csv', 'r') as file:\n",
    "    # Read the contents of the file into a list\n",
    "    data = list(csv.reader(file))\n",
    "\n",
    "# Find the middle of the list\n",
    "mid = len(data) // 4\n",
    "\n",
    "# Split the list into two halves\n",
    "first_half = data[:mid]\n",
    "second_half = data[mid:]\n",
    "\n",
    "# Open the CSV file in write mode\n",
    "with open('jokeshalfhalfhalf3.csv', 'w', newline='') as file:\n",
    "    # Write the first half of the list back to the file\n",
    "    csv.writer(file).writerows(first_half)\n"
   ]
  }
 ],
 "metadata": {
  "kernelspec": {
   "display_name": "base",
   "language": "python",
   "name": "python3"
  },
  "language_info": {
   "codemirror_mode": {
    "name": "ipython",
    "version": 3
   },
   "file_extension": ".py",
   "mimetype": "text/x-python",
   "name": "python",
   "nbconvert_exporter": "python",
   "pygments_lexer": "ipython3",
   "version": "3.9.7"
  },
  "orig_nbformat": 4,
  "vscode": {
   "interpreter": {
    "hash": "285ddf65587f3c042e287c3856e7d92f4bb8cbaf58923bfd87e25b328822367e"
   }
  }
 },
 "nbformat": 4,
 "nbformat_minor": 2
}
